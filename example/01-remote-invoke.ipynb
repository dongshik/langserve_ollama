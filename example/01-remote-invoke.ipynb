{
 "cells": [
  {
   "cell_type": "code",
   "execution_count": 1,
   "metadata": {},
   "outputs": [
    {
     "name": "stdout",
     "output_type": "stream",
     "text": [
      "딥러닝은 인공지능(AI)의 한 분야로, 대량의 데이터에서 복잡한 패턴과 관계를 학습하는 데 중점을 둔 기계학습 알고리즘을 말합니다. 전통적인 머신러닝 방법과 달리, 딥러닝 모델들은 여러 층의 추상화를 가진 심층 신경망(DNNs)을 사용하여 데이터를 처리합니다. 이러한 구조는 인간의 뇌와 유사한 방식으로 정보를 처리하고 이해할 수 있게 해줍니다.\n",
      "\n",
      "딥러닝은 이미지 인식, 음성 인식, 자연어 처리 등 다양한 분야에서 큰 성공을 거두었습니다. 컴퓨터 비전 분야에서는 딥러닝 모델이 고양이나 개 같은 동물의 이미지를 구별하는 것부터 얼굴 인식 및 자율주행차량에 이르기까지 다양한 작업을 수행할 수 있습니다. 음성 인식 분야에서는 딥러닝 모델이 인간의 말과 비슷한 수준의 정확도로 음성을 인식하고 변환할 수 있게 되었습니다.\n",
      "\n",
      "자연어 처리 분야에서는 딥러닝 모델이 문맥을 이해하고, 감정을 분석하며, 대화의 흐름을 생성하는 등 다양한 작업을 수행할 수 있습니다. 또한, 챗봇 및 가상 어시스턴트와 같은 응용 프로그램에서 사용되어 사용자의 질문에 답하고 개인화된 추천을 제공할 수 있습니다.\n",
      "\n",
      "요약하자면, 딥러닝은 대량의 데이터에서 복잡한 패턴과 관계를 학습할 수 있는 고급 머신러닝 알고리즘의 집합입니다. 이미지 인식, 음성 인식 및 자연어 처리 등 다양한 분야에서 큰 성공을 거두었으며, 계속해서 발전함에 따라 AI 분야에서의 응용이 더욱 확대될 것으로 기대됩니다."
     ]
    }
   ],
   "source": [
    "from langserve import RemoteRunnable\n",
    "\n",
    "# ngrok remote 주소 설정\n",
    "\n",
    "# chain = RemoteRunnable(\"NGROK 에서 설정한 본인의 도메인 주소/prompt/\")\n",
    "# chain = RemoteRunnable(\"https://poodle-deep-marmot.ngrok-free.app/prompt/\")\n",
    "# chain = RemoteRunnable(\"http://0.0.0.0:8000/prompt/\")\n",
    "chain = RemoteRunnable(\"https://humble-curiously-antelope.ngrok-free.app/prompt/\")\n",
    "\n",
    "for token in chain.stream({\"topic\": \"딥러닝에 대해서 알려줘\"}):\n",
    "    print(token, end=\"\")"
   ]
  },
  {
   "cell_type": "code",
   "execution_count": null,
   "metadata": {},
   "outputs": [],
   "source": []
  }
 ],
 "metadata": {
  "kernelspec": {
   "display_name": "py-test",
   "language": "python",
   "name": "python3"
  },
  "language_info": {
   "codemirror_mode": {
    "name": "ipython",
    "version": 3
   },
   "file_extension": ".py",
   "mimetype": "text/x-python",
   "name": "python",
   "nbconvert_exporter": "python",
   "pygments_lexer": "ipython3",
   "version": "3.11.9"
  }
 },
 "nbformat": 4,
 "nbformat_minor": 2
}
