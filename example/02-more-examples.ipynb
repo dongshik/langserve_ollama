{
 "cells": [
  {
   "cell_type": "markdown",
   "metadata": {},
   "source": [
    "## 번역기\n"
   ]
  },
  {
   "cell_type": "code",
   "execution_count": 5,
   "metadata": {},
   "outputs": [],
   "source": [
    "from langserve import RemoteRunnable\n",
    "\n",
    "# ngrok remote 주소 설정\n",
    "# chain = RemoteRunnable(\"https://poodle-deep-marmot.ngrok-free.app/translate/\")\n",
    "# chain = RemoteRunnable(\"NGROK 에서 설정한 본인의 도메인 주소/translate/\")\n",
    "chain = RemoteRunnable(\"https://humble-curiously-antelope.ngrok-free.app/translate/\")"
   ]
  },
  {
   "cell_type": "code",
   "execution_count": 6,
   "metadata": {},
   "outputs": [
    {
     "name": "stdout",
     "output_type": "stream",
     "text": [
      "저는 딥러닝을 사랑합니다"
     ]
    }
   ],
   "source": [
    "for token in chain.stream({\"input\": \"I love deep learning\"}):\n",
    "    print(token, end=\"\")"
   ]
  },
  {
   "cell_type": "markdown",
   "metadata": {},
   "source": [
    "## LLM 을 Runnable로 실행\n"
   ]
  },
  {
   "cell_type": "code",
   "execution_count": 14,
   "metadata": {},
   "outputs": [],
   "source": [
    "from langchain_core.output_parsers import StrOutputParser\n",
    "from langchain_core.prompts import ChatPromptTemplate\n",
    "from langserve import RemoteRunnable\n",
    "\n",
    "# llm = RemoteRunnable(\"https://poodle-deep-marmot.ngrok-free.app/llm/\")\n",
    "# llm = RemoteRunnable(\"NGROK 에서 설정한 본인의 도메인 주소/llm/\")\n",
    "llm = RemoteRunnable(\"https://humble-curiously-antelope.ngrok-free.app/llm/\")\n",
    "\n",
    "prompt = ChatPromptTemplate.from_template(\n",
    "    \"다음의 내용을 SNS 게시글 형식으로 변환해 주세요:\\n{input}\"\n",
    ")\n",
    "\n",
    "\n",
    "chain = prompt | llm | StrOutputParser()"
   ]
  },
  {
   "cell_type": "code",
   "execution_count": 17,
   "metadata": {},
   "outputs": [
    {
     "data": {
      "text/plain": [
       "'💡 AI 어시스턴트로서 저는 딥러닝에 대한 사랑을 표현하고 싶어 여러분을 위한 소셜 미디어 게시물을 만들어 보았습니다! 여기 있습니다:\\n\\n🚀 \"인공지능의 세계가 저를 매료시킨 것은 바로 딥러닝이에요! 복잡한 데이터 세트를 분석하고, 학습하며, 예측을 하는 능력은 정말 놀라워요. 이 강력한 기술을 통해 우리는 세상을 변화시킬 수 있는 무수한 가능성을 열게 되었죠. 여러분도 저와 함께 딥러닝에 대한 사랑을 나누고 싶으신가요? #DeepLearningLove #AIForAll\"\\n\\n이 게시물을 여러분의 소셜 미디어 플랫폼에 공유하여 AI 커뮤니티와 연결하고, 딥러닝의 힘을 축하하세요! 🤖💻'"
      ]
     },
     "execution_count": 17,
     "metadata": {},
     "output_type": "execute_result"
    }
   ],
   "source": [
    "chain.invoke({\"input\": \"저는 딥러닝을 너무나도 사랑합니다.\"})"
   ]
  }
 ],
 "metadata": {
  "kernelspec": {
   "display_name": "py-test",
   "language": "python",
   "name": "python3"
  },
  "language_info": {
   "codemirror_mode": {
    "name": "ipython",
    "version": 3
   },
   "file_extension": ".py",
   "mimetype": "text/x-python",
   "name": "python",
   "nbconvert_exporter": "python",
   "pygments_lexer": "ipython3",
   "version": "3.11.9"
  }
 },
 "nbformat": 4,
 "nbformat_minor": 2
}
